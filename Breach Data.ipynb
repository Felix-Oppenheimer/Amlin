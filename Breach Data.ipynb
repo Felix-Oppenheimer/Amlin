{
 "cells": [
  {
   "cell_type": "code",
   "execution_count": 1,
   "metadata": {
    "collapsed": false
   },
   "outputs": [
    {
     "name": "stderr",
     "output_type": "stream",
     "text": [
      "C:\\Users\\student10\\Anaconda2\\lib\\site-packages\\fuzzywuzzy\\fuzz.py:35: UserWarning: Using slow pure-python SequenceMatcher. Install python-Levenshtein to remove this warning\n",
      "  warnings.warn('Using slow pure-python SequenceMatcher. Install python-Levenshtein to remove this warning')\n"
     ]
    }
   ],
   "source": [
    "# Import necessary libraries \n",
    "import numpy as np\n",
    "import pandas as pd\n",
    "import matplotlib.pyplot as plt\n",
    "from ipykernel import kernelapp as app\n",
    "from fuzzywuzzy import fuzz\n",
    "from fuzzywuzzy import process\n",
    "%matplotlib inline"
   ]
  },
  {
   "cell_type": "code",
   "execution_count": 2,
   "metadata": {
    "collapsed": false
   },
   "outputs": [],
   "source": [
    "df = pd.read_csv(\"C:\\GIT\\Amlin\\Privacy_Rights_Clearinghouse-Data-Breaches-Export.csv\", dtype={'Location': str})\n",
    "#df1 = pd.read_csv(\"C:\\GIT\\Amlin\\companylist.csv\")"
   ]
  },
  {
   "cell_type": "code",
   "execution_count": 3,
   "metadata": {
    "collapsed": false
   },
   "outputs": [],
   "source": [
    "df1 = df['Location'].astype('str')\n",
    "del df['Location']\n",
    "df = df.join(df1)"
   ]
  },
  {
   "cell_type": "code",
   "execution_count": 4,
   "metadata": {
    "collapsed": false
   },
   "outputs": [
    {
     "data": {
      "text/html": [
       "<div>\n",
       "<table border=\"1\" class=\"dataframe\">\n",
       "  <thead>\n",
       "    <tr style=\"text-align: right;\">\n",
       "      <th></th>\n",
       "      <th>Date Made Public</th>\n",
       "      <th>Company</th>\n",
       "      <th>Type of breach</th>\n",
       "      <th>Type of organization</th>\n",
       "      <th>Records Breached</th>\n",
       "      <th>Total Records</th>\n",
       "      <th>Description of incident</th>\n",
       "      <th>Information Source</th>\n",
       "      <th>Location</th>\n",
       "    </tr>\n",
       "  </thead>\n",
       "  <tbody>\n",
       "    <tr>\n",
       "      <th>0</th>\n",
       "      <td>October 21, 2009</td>\n",
       "      <td>Bullitt County Public Schools</td>\n",
       "      <td>DISC</td>\n",
       "      <td>EDU</td>\n",
       "      <td>676</td>\n",
       "      <td>676</td>\n",
       "      <td>A Bullitt County Public Schools \\n            ...</td>\n",
       "      <td>Dataloss DB</td>\n",
       "      <td>Shepherdsville, Kentucky</td>\n",
       "    </tr>\n",
       "    <tr>\n",
       "      <th>1</th>\n",
       "      <td>October 21, 2009</td>\n",
       "      <td>Roane State Community College</td>\n",
       "      <td>PORT</td>\n",
       "      <td>EDU</td>\n",
       "      <td>14,783</td>\n",
       "      <td>14,783</td>\n",
       "      <td>Roane State Community College \\n            ha...</td>\n",
       "      <td>Dataloss DB</td>\n",
       "      <td>Harriman, Tennessee</td>\n",
       "    </tr>\n",
       "    <tr>\n",
       "      <th>2</th>\n",
       "      <td>October 15, 2009</td>\n",
       "      <td>Halifax Health</td>\n",
       "      <td>PORT</td>\n",
       "      <td>MED</td>\n",
       "      <td>33,000</td>\n",
       "      <td>33,000</td>\n",
       "      <td>A laptop computer from a Halifax \\n           ...</td>\n",
       "      <td>Dataloss DB</td>\n",
       "      <td>Daytona Beach, Florida</td>\n",
       "    </tr>\n",
       "    <tr>\n",
       "      <th>3</th>\n",
       "      <td>October 4, 2009</td>\n",
       "      <td>Suffolk Community College</td>\n",
       "      <td>DISC</td>\n",
       "      <td>EDU</td>\n",
       "      <td>300</td>\n",
       "      <td>300</td>\n",
       "      <td>Suffolk Community College has \\n            ag...</td>\n",
       "      <td>Dataloss DB</td>\n",
       "      <td>Selden, New York</td>\n",
       "    </tr>\n",
       "    <tr>\n",
       "      <th>4</th>\n",
       "      <td>September 28, 2009</td>\n",
       "      <td>Penrose Hospital</td>\n",
       "      <td>PHYS</td>\n",
       "      <td>MED</td>\n",
       "      <td>175</td>\n",
       "      <td>175</td>\n",
       "      <td>Officials at Penrose Hospital              bel...</td>\n",
       "      <td>Dataloss DB</td>\n",
       "      <td>Colorado Springs, Colorado</td>\n",
       "    </tr>\n",
       "  </tbody>\n",
       "</table>\n",
       "</div>"
      ],
      "text/plain": [
       "     Date Made Public                         Company Type of breach  \\\n",
       "0    October 21, 2009   Bullitt County Public Schools           DISC   \n",
       "1    October 21, 2009  Roane State Community College            PORT   \n",
       "2    October 15, 2009                  Halifax Health           PORT   \n",
       "3     October 4, 2009       Suffolk Community College           DISC   \n",
       "4  September 28, 2009                Penrose Hospital           PHYS   \n",
       "\n",
       "  Type of organization Records Breached Total Records  \\\n",
       "0                  EDU              676           676   \n",
       "1                  EDU           14,783        14,783   \n",
       "2                  MED           33,000        33,000   \n",
       "3                  EDU              300           300   \n",
       "4                  MED              175           175   \n",
       "\n",
       "                             Description of incident Information Source  \\\n",
       "0  A Bullitt County Public Schools \\n            ...        Dataloss DB   \n",
       "1  Roane State Community College \\n            ha...        Dataloss DB   \n",
       "2  A laptop computer from a Halifax \\n           ...        Dataloss DB   \n",
       "3  Suffolk Community College has \\n            ag...        Dataloss DB   \n",
       "4  Officials at Penrose Hospital              bel...        Dataloss DB   \n",
       "\n",
       "                     Location  \n",
       "0    Shepherdsville, Kentucky  \n",
       "1         Harriman, Tennessee  \n",
       "2      Daytona Beach, Florida  \n",
       "3            Selden, New York  \n",
       "4  Colorado Springs, Colorado  "
      ]
     },
     "execution_count": 4,
     "metadata": {},
     "output_type": "execute_result"
    }
   ],
   "source": [
    "df.head()"
   ]
  },
  {
   "cell_type": "code",
   "execution_count": 5,
   "metadata": {
    "collapsed": false
   },
   "outputs": [
    {
     "data": {
      "text/html": [
       "<div>\n",
       "<table border=\"1\" class=\"dataframe\">\n",
       "  <thead>\n",
       "    <tr style=\"text-align: right;\">\n",
       "      <th></th>\n",
       "      <th>Date</th>\n",
       "      <th>Year</th>\n",
       "      <th>Company</th>\n",
       "      <th>Type of breach</th>\n",
       "      <th>Type of organization</th>\n",
       "      <th>Records Breached</th>\n",
       "      <th>Total Records</th>\n",
       "      <th>Description of incident</th>\n",
       "      <th>Information Source</th>\n",
       "      <th>Location</th>\n",
       "    </tr>\n",
       "  </thead>\n",
       "  <tbody>\n",
       "    <tr>\n",
       "      <th>0</th>\n",
       "      <td>October 21</td>\n",
       "      <td>2009</td>\n",
       "      <td>Bullitt County Public Schools</td>\n",
       "      <td>DISC</td>\n",
       "      <td>EDU</td>\n",
       "      <td>676</td>\n",
       "      <td>676</td>\n",
       "      <td>A Bullitt County Public Schools \\n            ...</td>\n",
       "      <td>Dataloss DB</td>\n",
       "      <td>Shepherdsville, Kentucky</td>\n",
       "    </tr>\n",
       "    <tr>\n",
       "      <th>1</th>\n",
       "      <td>October 21</td>\n",
       "      <td>2009</td>\n",
       "      <td>Roane State Community College</td>\n",
       "      <td>PORT</td>\n",
       "      <td>EDU</td>\n",
       "      <td>14,783</td>\n",
       "      <td>14,783</td>\n",
       "      <td>Roane State Community College \\n            ha...</td>\n",
       "      <td>Dataloss DB</td>\n",
       "      <td>Harriman, Tennessee</td>\n",
       "    </tr>\n",
       "    <tr>\n",
       "      <th>2</th>\n",
       "      <td>October 15</td>\n",
       "      <td>2009</td>\n",
       "      <td>Halifax Health</td>\n",
       "      <td>PORT</td>\n",
       "      <td>MED</td>\n",
       "      <td>33,000</td>\n",
       "      <td>33,000</td>\n",
       "      <td>A laptop computer from a Halifax \\n           ...</td>\n",
       "      <td>Dataloss DB</td>\n",
       "      <td>Daytona Beach, Florida</td>\n",
       "    </tr>\n",
       "    <tr>\n",
       "      <th>3</th>\n",
       "      <td>October 4</td>\n",
       "      <td>2009</td>\n",
       "      <td>Suffolk Community College</td>\n",
       "      <td>DISC</td>\n",
       "      <td>EDU</td>\n",
       "      <td>300</td>\n",
       "      <td>300</td>\n",
       "      <td>Suffolk Community College has \\n            ag...</td>\n",
       "      <td>Dataloss DB</td>\n",
       "      <td>Selden, New York</td>\n",
       "    </tr>\n",
       "    <tr>\n",
       "      <th>4</th>\n",
       "      <td>September 28</td>\n",
       "      <td>2009</td>\n",
       "      <td>Penrose Hospital</td>\n",
       "      <td>PHYS</td>\n",
       "      <td>MED</td>\n",
       "      <td>175</td>\n",
       "      <td>175</td>\n",
       "      <td>Officials at Penrose Hospital              bel...</td>\n",
       "      <td>Dataloss DB</td>\n",
       "      <td>Colorado Springs, Colorado</td>\n",
       "    </tr>\n",
       "  </tbody>\n",
       "</table>\n",
       "</div>"
      ],
      "text/plain": [
       "           Date   Year                         Company Type of breach  \\\n",
       "0    October 21   2009   Bullitt County Public Schools           DISC   \n",
       "1    October 21   2009  Roane State Community College            PORT   \n",
       "2    October 15   2009                  Halifax Health           PORT   \n",
       "3     October 4   2009       Suffolk Community College           DISC   \n",
       "4  September 28   2009                Penrose Hospital           PHYS   \n",
       "\n",
       "  Type of organization Records Breached Total Records  \\\n",
       "0                  EDU              676           676   \n",
       "1                  EDU           14,783        14,783   \n",
       "2                  MED           33,000        33,000   \n",
       "3                  EDU              300           300   \n",
       "4                  MED              175           175   \n",
       "\n",
       "                             Description of incident Information Source  \\\n",
       "0  A Bullitt County Public Schools \\n            ...        Dataloss DB   \n",
       "1  Roane State Community College \\n            ha...        Dataloss DB   \n",
       "2  A laptop computer from a Halifax \\n           ...        Dataloss DB   \n",
       "3  Suffolk Community College has \\n            ag...        Dataloss DB   \n",
       "4  Officials at Penrose Hospital              bel...        Dataloss DB   \n",
       "\n",
       "                     Location  \n",
       "0    Shepherdsville, Kentucky  \n",
       "1         Harriman, Tennessee  \n",
       "2      Daytona Beach, Florida  \n",
       "3            Selden, New York  \n",
       "4  Colorado Springs, Colorado  "
      ]
     },
     "execution_count": 5,
     "metadata": {},
     "output_type": "execute_result"
    }
   ],
   "source": [
    "new_df = df['Date Made Public'].apply(lambda x: pd.Series(x.split(',')))\n",
    "df2 = new_df.rename(columns={0: 'Date', 1 : 'Year'}).join(df.iloc[:, 1:])\n",
    "df2.head()"
   ]
  },
  {
   "cell_type": "code",
   "execution_count": 6,
   "metadata": {
    "collapsed": false
   },
   "outputs": [
    {
     "data": {
      "text/html": [
       "<div>\n",
       "<table border=\"1\" class=\"dataframe\">\n",
       "  <thead>\n",
       "    <tr style=\"text-align: right;\">\n",
       "      <th></th>\n",
       "      <th>Date</th>\n",
       "      <th>Year</th>\n",
       "      <th>Company</th>\n",
       "      <th>Type of breach</th>\n",
       "      <th>Type of organization</th>\n",
       "      <th>Records Breached</th>\n",
       "      <th>Total Records</th>\n",
       "      <th>Description of incident</th>\n",
       "      <th>City</th>\n",
       "      <th>State</th>\n",
       "    </tr>\n",
       "  </thead>\n",
       "  <tbody>\n",
       "    <tr>\n",
       "      <th>0</th>\n",
       "      <td>October 21</td>\n",
       "      <td>2009</td>\n",
       "      <td>Bullitt County Public Schools</td>\n",
       "      <td>DISC</td>\n",
       "      <td>EDU</td>\n",
       "      <td>676</td>\n",
       "      <td>676</td>\n",
       "      <td>A Bullitt County Public Schools \\n            ...</td>\n",
       "      <td>Shepherdsville</td>\n",
       "      <td>Kentucky</td>\n",
       "    </tr>\n",
       "    <tr>\n",
       "      <th>1</th>\n",
       "      <td>October 21</td>\n",
       "      <td>2009</td>\n",
       "      <td>Roane State Community College</td>\n",
       "      <td>PORT</td>\n",
       "      <td>EDU</td>\n",
       "      <td>14,783</td>\n",
       "      <td>14,783</td>\n",
       "      <td>Roane State Community College \\n            ha...</td>\n",
       "      <td>Harriman</td>\n",
       "      <td>Tennessee</td>\n",
       "    </tr>\n",
       "    <tr>\n",
       "      <th>2</th>\n",
       "      <td>October 15</td>\n",
       "      <td>2009</td>\n",
       "      <td>Halifax Health</td>\n",
       "      <td>PORT</td>\n",
       "      <td>MED</td>\n",
       "      <td>33,000</td>\n",
       "      <td>33,000</td>\n",
       "      <td>A laptop computer from a Halifax \\n           ...</td>\n",
       "      <td>Daytona Beach</td>\n",
       "      <td>Florida</td>\n",
       "    </tr>\n",
       "    <tr>\n",
       "      <th>3</th>\n",
       "      <td>October 4</td>\n",
       "      <td>2009</td>\n",
       "      <td>Suffolk Community College</td>\n",
       "      <td>DISC</td>\n",
       "      <td>EDU</td>\n",
       "      <td>300</td>\n",
       "      <td>300</td>\n",
       "      <td>Suffolk Community College has \\n            ag...</td>\n",
       "      <td>Selden</td>\n",
       "      <td>New York</td>\n",
       "    </tr>\n",
       "    <tr>\n",
       "      <th>4</th>\n",
       "      <td>September 28</td>\n",
       "      <td>2009</td>\n",
       "      <td>Penrose Hospital</td>\n",
       "      <td>PHYS</td>\n",
       "      <td>MED</td>\n",
       "      <td>175</td>\n",
       "      <td>175</td>\n",
       "      <td>Officials at Penrose Hospital              bel...</td>\n",
       "      <td>Colorado Springs</td>\n",
       "      <td>Colorado</td>\n",
       "    </tr>\n",
       "  </tbody>\n",
       "</table>\n",
       "</div>"
      ],
      "text/plain": [
       "           Date   Year                         Company Type of breach  \\\n",
       "0    October 21   2009   Bullitt County Public Schools           DISC   \n",
       "1    October 21   2009  Roane State Community College            PORT   \n",
       "2    October 15   2009                  Halifax Health           PORT   \n",
       "3     October 4   2009       Suffolk Community College           DISC   \n",
       "4  September 28   2009                Penrose Hospital           PHYS   \n",
       "\n",
       "  Type of organization Records Breached Total Records  \\\n",
       "0                  EDU              676           676   \n",
       "1                  EDU           14,783        14,783   \n",
       "2                  MED           33,000        33,000   \n",
       "3                  EDU              300           300   \n",
       "4                  MED              175           175   \n",
       "\n",
       "                             Description of incident              City  \\\n",
       "0  A Bullitt County Public Schools \\n            ...    Shepherdsville   \n",
       "1  Roane State Community College \\n            ha...          Harriman   \n",
       "2  A laptop computer from a Halifax \\n           ...     Daytona Beach   \n",
       "3  Suffolk Community College has \\n            ag...            Selden   \n",
       "4  Officials at Penrose Hospital              bel...  Colorado Springs   \n",
       "\n",
       "        State  \n",
       "0    Kentucky  \n",
       "1   Tennessee  \n",
       "2     Florida  \n",
       "3    New York  \n",
       "4    Colorado  "
      ]
     },
     "execution_count": 6,
     "metadata": {},
     "output_type": "execute_result"
    }
   ],
   "source": [
    "new_df2 = df['Location'].apply(lambda x: pd.Series(x.split(',')))\n",
    "del new_df2[2]\n",
    "df3 = df2.iloc[:, :8].join(new_df2.rename(columns={0: 'City', 1 : 'State'}))\n",
    "df3.head()"
   ]
  },
  {
   "cell_type": "code",
   "execution_count": 7,
   "metadata": {
    "collapsed": false
   },
   "outputs": [],
   "source": [
    "df = df3"
   ]
  },
  {
   "cell_type": "code",
   "execution_count": 8,
   "metadata": {
    "collapsed": false
   },
   "outputs": [
    {
     "data": {
      "text/html": [
       "<div>\n",
       "<table border=\"1\" class=\"dataframe\">\n",
       "  <thead>\n",
       "    <tr style=\"text-align: right;\">\n",
       "      <th></th>\n",
       "      <th>Date</th>\n",
       "      <th>Year</th>\n",
       "      <th>Company</th>\n",
       "      <th>Type of breach</th>\n",
       "      <th>Type of organization</th>\n",
       "      <th>Records Breached</th>\n",
       "      <th>Total Records</th>\n",
       "      <th>Description of incident</th>\n",
       "      <th>City</th>\n",
       "      <th>State</th>\n",
       "    </tr>\n",
       "  </thead>\n",
       "  <tbody>\n",
       "    <tr>\n",
       "      <th>0</th>\n",
       "      <td>October 21</td>\n",
       "      <td>2009</td>\n",
       "      <td>Bullitt County Public Schools</td>\n",
       "      <td>DISC</td>\n",
       "      <td>EDU</td>\n",
       "      <td>676</td>\n",
       "      <td>676</td>\n",
       "      <td>A Bullitt County Public Schools \\n            ...</td>\n",
       "      <td>Shepherdsville</td>\n",
       "      <td>Kentucky</td>\n",
       "    </tr>\n",
       "    <tr>\n",
       "      <th>1</th>\n",
       "      <td>October 21</td>\n",
       "      <td>2009</td>\n",
       "      <td>Roane State Community College</td>\n",
       "      <td>PORT</td>\n",
       "      <td>EDU</td>\n",
       "      <td>14,783</td>\n",
       "      <td>14,783</td>\n",
       "      <td>Roane State Community College \\n            ha...</td>\n",
       "      <td>Harriman</td>\n",
       "      <td>Tennessee</td>\n",
       "    </tr>\n",
       "    <tr>\n",
       "      <th>2</th>\n",
       "      <td>October 15</td>\n",
       "      <td>2009</td>\n",
       "      <td>Halifax Health</td>\n",
       "      <td>PORT</td>\n",
       "      <td>MED</td>\n",
       "      <td>33,000</td>\n",
       "      <td>33,000</td>\n",
       "      <td>A laptop computer from a Halifax \\n           ...</td>\n",
       "      <td>Daytona Beach</td>\n",
       "      <td>Florida</td>\n",
       "    </tr>\n",
       "    <tr>\n",
       "      <th>3</th>\n",
       "      <td>October 4</td>\n",
       "      <td>2009</td>\n",
       "      <td>Suffolk Community College</td>\n",
       "      <td>DISC</td>\n",
       "      <td>EDU</td>\n",
       "      <td>300</td>\n",
       "      <td>300</td>\n",
       "      <td>Suffolk Community College has \\n            ag...</td>\n",
       "      <td>Selden</td>\n",
       "      <td>New York</td>\n",
       "    </tr>\n",
       "    <tr>\n",
       "      <th>4</th>\n",
       "      <td>September 28</td>\n",
       "      <td>2009</td>\n",
       "      <td>Penrose Hospital</td>\n",
       "      <td>PHYS</td>\n",
       "      <td>MED</td>\n",
       "      <td>175</td>\n",
       "      <td>175</td>\n",
       "      <td>Officials at Penrose Hospital              bel...</td>\n",
       "      <td>Colorado Springs</td>\n",
       "      <td>Colorado</td>\n",
       "    </tr>\n",
       "  </tbody>\n",
       "</table>\n",
       "</div>"
      ],
      "text/plain": [
       "           Date   Year                         Company Type of breach  \\\n",
       "0    October 21   2009   Bullitt County Public Schools           DISC   \n",
       "1    October 21   2009  Roane State Community College            PORT   \n",
       "2    October 15   2009                  Halifax Health           PORT   \n",
       "3     October 4   2009       Suffolk Community College           DISC   \n",
       "4  September 28   2009                Penrose Hospital           PHYS   \n",
       "\n",
       "  Type of organization Records Breached Total Records  \\\n",
       "0                  EDU              676           676   \n",
       "1                  EDU           14,783        14,783   \n",
       "2                  MED           33,000        33,000   \n",
       "3                  EDU              300           300   \n",
       "4                  MED              175           175   \n",
       "\n",
       "                             Description of incident              City  \\\n",
       "0  A Bullitt County Public Schools \\n            ...    Shepherdsville   \n",
       "1  Roane State Community College \\n            ha...          Harriman   \n",
       "2  A laptop computer from a Halifax \\n           ...     Daytona Beach   \n",
       "3  Suffolk Community College has \\n            ag...            Selden   \n",
       "4  Officials at Penrose Hospital              bel...  Colorado Springs   \n",
       "\n",
       "        State  \n",
       "0    Kentucky  \n",
       "1   Tennessee  \n",
       "2     Florida  \n",
       "3    New York  \n",
       "4    Colorado  "
      ]
     },
     "execution_count": 8,
     "metadata": {},
     "output_type": "execute_result"
    }
   ],
   "source": [
    "df.head()"
   ]
  },
  {
   "cell_type": "code",
   "execution_count": 9,
   "metadata": {
    "collapsed": false
   },
   "outputs": [
    {
     "data": {
      "text/html": [
       "<div>\n",
       "<table border=\"1\" class=\"dataframe\">\n",
       "  <thead>\n",
       "    <tr style=\"text-align: right;\">\n",
       "      <th></th>\n",
       "      <th>Year</th>\n",
       "      <th>Company</th>\n",
       "      <th>Type of breach</th>\n",
       "      <th>Type of organization</th>\n",
       "      <th>Records Breached</th>\n",
       "      <th>Total Records</th>\n",
       "      <th>Description of incident</th>\n",
       "      <th>City</th>\n",
       "      <th>State</th>\n",
       "      <th>Day</th>\n",
       "      <th>Month</th>\n",
       "    </tr>\n",
       "  </thead>\n",
       "  <tbody>\n",
       "    <tr>\n",
       "      <th>0</th>\n",
       "      <td>2009</td>\n",
       "      <td>Bullitt County Public Schools</td>\n",
       "      <td>DISC</td>\n",
       "      <td>EDU</td>\n",
       "      <td>676</td>\n",
       "      <td>676</td>\n",
       "      <td>A Bullitt County Public Schools \\n            ...</td>\n",
       "      <td>Shepherdsville</td>\n",
       "      <td>Kentucky</td>\n",
       "      <td>21</td>\n",
       "      <td>October</td>\n",
       "    </tr>\n",
       "    <tr>\n",
       "      <th>1</th>\n",
       "      <td>2009</td>\n",
       "      <td>Roane State Community College</td>\n",
       "      <td>PORT</td>\n",
       "      <td>EDU</td>\n",
       "      <td>14,783</td>\n",
       "      <td>14,783</td>\n",
       "      <td>Roane State Community College \\n            ha...</td>\n",
       "      <td>Harriman</td>\n",
       "      <td>Tennessee</td>\n",
       "      <td>21</td>\n",
       "      <td>October</td>\n",
       "    </tr>\n",
       "    <tr>\n",
       "      <th>2</th>\n",
       "      <td>2009</td>\n",
       "      <td>Halifax Health</td>\n",
       "      <td>PORT</td>\n",
       "      <td>MED</td>\n",
       "      <td>33,000</td>\n",
       "      <td>33,000</td>\n",
       "      <td>A laptop computer from a Halifax \\n           ...</td>\n",
       "      <td>Daytona Beach</td>\n",
       "      <td>Florida</td>\n",
       "      <td>15</td>\n",
       "      <td>October</td>\n",
       "    </tr>\n",
       "    <tr>\n",
       "      <th>3</th>\n",
       "      <td>2009</td>\n",
       "      <td>Suffolk Community College</td>\n",
       "      <td>DISC</td>\n",
       "      <td>EDU</td>\n",
       "      <td>300</td>\n",
       "      <td>300</td>\n",
       "      <td>Suffolk Community College has \\n            ag...</td>\n",
       "      <td>Selden</td>\n",
       "      <td>New York</td>\n",
       "      <td>4</td>\n",
       "      <td>October</td>\n",
       "    </tr>\n",
       "    <tr>\n",
       "      <th>4</th>\n",
       "      <td>2009</td>\n",
       "      <td>Penrose Hospital</td>\n",
       "      <td>PHYS</td>\n",
       "      <td>MED</td>\n",
       "      <td>175</td>\n",
       "      <td>175</td>\n",
       "      <td>Officials at Penrose Hospital              bel...</td>\n",
       "      <td>Colorado Springs</td>\n",
       "      <td>Colorado</td>\n",
       "      <td>28</td>\n",
       "      <td>September</td>\n",
       "    </tr>\n",
       "  </tbody>\n",
       "</table>\n",
       "</div>"
      ],
      "text/plain": [
       "    Year                         Company Type of breach Type of organization  \\\n",
       "0   2009   Bullitt County Public Schools           DISC                  EDU   \n",
       "1   2009  Roane State Community College            PORT                  EDU   \n",
       "2   2009                  Halifax Health           PORT                  MED   \n",
       "3   2009       Suffolk Community College           DISC                  EDU   \n",
       "4   2009                Penrose Hospital           PHYS                  MED   \n",
       "\n",
       "  Records Breached Total Records  \\\n",
       "0              676           676   \n",
       "1           14,783        14,783   \n",
       "2           33,000        33,000   \n",
       "3              300           300   \n",
       "4              175           175   \n",
       "\n",
       "                             Description of incident              City  \\\n",
       "0  A Bullitt County Public Schools \\n            ...    Shepherdsville   \n",
       "1  Roane State Community College \\n            ha...          Harriman   \n",
       "2  A laptop computer from a Halifax \\n           ...     Daytona Beach   \n",
       "3  Suffolk Community College has \\n            ag...            Selden   \n",
       "4  Officials at Penrose Hospital              bel...  Colorado Springs   \n",
       "\n",
       "        State Day      Month  \n",
       "0    Kentucky  21    October  \n",
       "1   Tennessee  21    October  \n",
       "2     Florida  15    October  \n",
       "3    New York   4    October  \n",
       "4    Colorado  28  September  "
      ]
     },
     "execution_count": 9,
     "metadata": {},
     "output_type": "execute_result"
    }
   ],
   "source": [
    "new_df3 = df['Date'].apply(lambda x: pd.Series(x.split(' ')))\n",
    "new_df3 = new_df3.rename(columns={0: 'Month', 1: 'Day'})\n",
    "cols = new_df3.columns.tolist()\n",
    "cols = cols[-1:] + cols[:-1]\n",
    "new_df3 = new_df3[cols]\n",
    "new_df3\n",
    "df4 = df.iloc[:, 1:].join(new_df3)\n",
    "df4.head()"
   ]
  },
  {
   "cell_type": "code",
   "execution_count": 10,
   "metadata": {
    "collapsed": false
   },
   "outputs": [],
   "source": [
    "df = df4"
   ]
  },
  {
   "cell_type": "code",
   "execution_count": 11,
   "metadata": {
    "collapsed": false
   },
   "outputs": [
    {
     "data": {
      "text/plain": [
       "Year                       False\n",
       "Company                    False\n",
       "Type of breach             False\n",
       "Type of organization       False\n",
       "Records Breached           False\n",
       "Total Records              False\n",
       "Description of incident     True\n",
       "City                       False\n",
       "State                       True\n",
       "Day                        False\n",
       "Month                      False\n",
       "dtype: bool"
      ]
     },
     "execution_count": 11,
     "metadata": {},
     "output_type": "execute_result"
    }
   ],
   "source": [
    "df.isnull().any()"
   ]
  },
  {
   "cell_type": "code",
   "execution_count": 12,
   "metadata": {
    "collapsed": false
   },
   "outputs": [],
   "source": [
    "df = df.fillna('N/A')"
   ]
  },
  {
   "cell_type": "code",
   "execution_count": 13,
   "metadata": {
    "collapsed": false
   },
   "outputs": [
    {
     "data": {
      "text/html": [
       "<div>\n",
       "<table border=\"1\" class=\"dataframe\">\n",
       "  <thead>\n",
       "    <tr style=\"text-align: right;\">\n",
       "      <th></th>\n",
       "      <th>Year</th>\n",
       "      <th>Company</th>\n",
       "      <th>Type of breach</th>\n",
       "      <th>Type of organization</th>\n",
       "      <th>Records Breached</th>\n",
       "      <th>Total Records</th>\n",
       "      <th>Description of incident</th>\n",
       "      <th>City</th>\n",
       "      <th>State</th>\n",
       "      <th>Day</th>\n",
       "      <th>Month</th>\n",
       "    </tr>\n",
       "  </thead>\n",
       "  <tbody>\n",
       "    <tr>\n",
       "      <th>count</th>\n",
       "      <td>5280</td>\n",
       "      <td>5280</td>\n",
       "      <td>5280</td>\n",
       "      <td>5280</td>\n",
       "      <td>5280</td>\n",
       "      <td>5280</td>\n",
       "      <td>5280</td>\n",
       "      <td>5280</td>\n",
       "      <td>5280</td>\n",
       "      <td>5280</td>\n",
       "      <td>5280</td>\n",
       "    </tr>\n",
       "    <tr>\n",
       "      <th>unique</th>\n",
       "      <td>13</td>\n",
       "      <td>4819</td>\n",
       "      <td>8</td>\n",
       "      <td>7</td>\n",
       "      <td>2097</td>\n",
       "      <td>1067</td>\n",
       "      <td>5166</td>\n",
       "      <td>1516</td>\n",
       "      <td>60</td>\n",
       "      <td>31</td>\n",
       "      <td>12</td>\n",
       "    </tr>\n",
       "    <tr>\n",
       "      <th>top</th>\n",
       "      <td>2012</td>\n",
       "      <td>Private Medical Practice</td>\n",
       "      <td>HACK</td>\n",
       "      <td>MED</td>\n",
       "      <td>Unknown</td>\n",
       "      <td>Unknown</td>\n",
       "      <td>No specifc information was provided by Health ...</td>\n",
       "      <td>New York</td>\n",
       "      <td>California</td>\n",
       "      <td>11</td>\n",
       "      <td>March</td>\n",
       "    </tr>\n",
       "    <tr>\n",
       "      <th>freq</th>\n",
       "      <td>676</td>\n",
       "      <td>10</td>\n",
       "      <td>1537</td>\n",
       "      <td>1577</td>\n",
       "      <td>1848</td>\n",
       "      <td>2950</td>\n",
       "      <td>21</td>\n",
       "      <td>233</td>\n",
       "      <td>868</td>\n",
       "      <td>201</td>\n",
       "      <td>481</td>\n",
       "    </tr>\n",
       "  </tbody>\n",
       "</table>\n",
       "</div>"
      ],
      "text/plain": [
       "         Year                   Company Type of breach Type of organization  \\\n",
       "count    5280                      5280           5280                 5280   \n",
       "unique     13                      4819              8                    7   \n",
       "top      2012  Private Medical Practice           HACK                  MED   \n",
       "freq      676                        10           1537                 1577   \n",
       "\n",
       "       Records Breached Total Records  \\\n",
       "count              5280          5280   \n",
       "unique             2097          1067   \n",
       "top             Unknown       Unknown   \n",
       "freq               1848          2950   \n",
       "\n",
       "                                  Description of incident      City  \\\n",
       "count                                                5280      5280   \n",
       "unique                                               5166      1516   \n",
       "top     No specifc information was provided by Health ...  New York   \n",
       "freq                                                   21       233   \n",
       "\n",
       "              State   Day  Month  \n",
       "count          5280  5280   5280  \n",
       "unique           60    31     12  \n",
       "top      California    11  March  \n",
       "freq            868   201    481  "
      ]
     },
     "execution_count": 13,
     "metadata": {},
     "output_type": "execute_result"
    }
   ],
   "source": [
    "df.describe()"
   ]
  },
  {
   "cell_type": "code",
   "execution_count": 14,
   "metadata": {
    "collapsed": false
   },
   "outputs": [],
   "source": [
    "df.to_csv(\"C:\\GIT\\Amlin\\clean_data2.csv\", index=False)"
   ]
  },
  {
   "cell_type": "code",
   "execution_count": 31,
   "metadata": {
    "collapsed": false
   },
   "outputs": [],
   "source": [
    "df = pd.read_csv(\"C:\\GIT\\Amlin\\clean_data3.csv\")"
   ]
  },
  {
   "cell_type": "code",
   "execution_count": 32,
   "metadata": {
    "collapsed": false
   },
   "outputs": [
    {
     "data": {
      "text/html": [
       "<div>\n",
       "<table border=\"1\" class=\"dataframe\">\n",
       "  <thead>\n",
       "    <tr style=\"text-align: right;\">\n",
       "      <th></th>\n",
       "      <th>Day</th>\n",
       "      <th>Month</th>\n",
       "      <th>Year</th>\n",
       "      <th>Company</th>\n",
       "      <th>City</th>\n",
       "      <th>State</th>\n",
       "      <th>Type of breach</th>\n",
       "      <th>Type of organization</th>\n",
       "      <th>Records Breached</th>\n",
       "      <th>Total Records</th>\n",
       "      <th>Description of incident</th>\n",
       "    </tr>\n",
       "  </thead>\n",
       "  <tbody>\n",
       "    <tr>\n",
       "      <th>0</th>\n",
       "      <td>21</td>\n",
       "      <td>October</td>\n",
       "      <td>2009</td>\n",
       "      <td>Bullitt County Public Schools</td>\n",
       "      <td>Shepherdsville</td>\n",
       "      <td>Kentucky</td>\n",
       "      <td>DISC</td>\n",
       "      <td>EDU</td>\n",
       "      <td>676</td>\n",
       "      <td>676</td>\n",
       "      <td>A Bullitt County Public Schools \\r\\n          ...</td>\n",
       "    </tr>\n",
       "    <tr>\n",
       "      <th>1</th>\n",
       "      <td>21</td>\n",
       "      <td>October</td>\n",
       "      <td>2009</td>\n",
       "      <td>Roane State Community College</td>\n",
       "      <td>Harriman</td>\n",
       "      <td>Tennessee</td>\n",
       "      <td>PORT</td>\n",
       "      <td>EDU</td>\n",
       "      <td>14783</td>\n",
       "      <td>14783</td>\n",
       "      <td>Roane State Community College \\r\\n            ...</td>\n",
       "    </tr>\n",
       "    <tr>\n",
       "      <th>2</th>\n",
       "      <td>15</td>\n",
       "      <td>October</td>\n",
       "      <td>2009</td>\n",
       "      <td>Halifax Health</td>\n",
       "      <td>Daytona Beach</td>\n",
       "      <td>Florida</td>\n",
       "      <td>PORT</td>\n",
       "      <td>MED</td>\n",
       "      <td>33000</td>\n",
       "      <td>33000</td>\n",
       "      <td>A laptop computer from a Halifax \\r\\n         ...</td>\n",
       "    </tr>\n",
       "    <tr>\n",
       "      <th>3</th>\n",
       "      <td>4</td>\n",
       "      <td>October</td>\n",
       "      <td>2009</td>\n",
       "      <td>Suffolk Community College</td>\n",
       "      <td>Selden</td>\n",
       "      <td>New York</td>\n",
       "      <td>DISC</td>\n",
       "      <td>EDU</td>\n",
       "      <td>300</td>\n",
       "      <td>300</td>\n",
       "      <td>Suffolk Community College has \\r\\n            ...</td>\n",
       "    </tr>\n",
       "    <tr>\n",
       "      <th>4</th>\n",
       "      <td>28</td>\n",
       "      <td>September</td>\n",
       "      <td>2009</td>\n",
       "      <td>Penrose Hospital</td>\n",
       "      <td>Colorado Springs</td>\n",
       "      <td>Colorado</td>\n",
       "      <td>PHYS</td>\n",
       "      <td>MED</td>\n",
       "      <td>175</td>\n",
       "      <td>175</td>\n",
       "      <td>Officials at Penrose Hospital              bel...</td>\n",
       "    </tr>\n",
       "  </tbody>\n",
       "</table>\n",
       "</div>"
      ],
      "text/plain": [
       "   Day      Month  Year                         Company              City  \\\n",
       "0   21    October  2009   Bullitt County Public Schools    Shepherdsville   \n",
       "1   21    October  2009  Roane State Community College           Harriman   \n",
       "2   15    October  2009                  Halifax Health     Daytona Beach   \n",
       "3    4    October  2009       Suffolk Community College            Selden   \n",
       "4   28  September  2009                Penrose Hospital  Colorado Springs   \n",
       "\n",
       "        State Type of breach Type of organization Records Breached  \\\n",
       "0    Kentucky           DISC                  EDU              676   \n",
       "1   Tennessee           PORT                  EDU            14783   \n",
       "2     Florida           PORT                  MED            33000   \n",
       "3    New York           DISC                  EDU              300   \n",
       "4    Colorado           PHYS                  MED              175   \n",
       "\n",
       "   Total Records                            Description of incident  \n",
       "0            676  A Bullitt County Public Schools \\r\\n          ...  \n",
       "1          14783  Roane State Community College \\r\\n            ...  \n",
       "2          33000  A laptop computer from a Halifax \\r\\n         ...  \n",
       "3            300  Suffolk Community College has \\r\\n            ...  \n",
       "4            175  Officials at Penrose Hospital              bel...  "
      ]
     },
     "execution_count": 32,
     "metadata": {},
     "output_type": "execute_result"
    }
   ],
   "source": [
    "df.head()"
   ]
  },
  {
   "cell_type": "code",
   "execution_count": 33,
   "metadata": {
    "collapsed": false
   },
   "outputs": [],
   "source": [
    "df = df.fillna('N/a')"
   ]
  },
  {
   "cell_type": "code",
   "execution_count": 34,
   "metadata": {
    "collapsed": false
   },
   "outputs": [],
   "source": [
    "df2 = df[['Year', 'Total Records']]"
   ]
  },
  {
   "cell_type": "code",
   "execution_count": 35,
   "metadata": {
    "collapsed": false
   },
   "outputs": [],
   "source": [
    "df3 = df2.groupby(['Year']).sum()"
   ]
  },
  {
   "cell_type": "code",
   "execution_count": 36,
   "metadata": {
    "collapsed": false
   },
   "outputs": [
    {
     "data": {
      "text/html": [
       "<div>\n",
       "<table border=\"1\" class=\"dataframe\">\n",
       "  <thead>\n",
       "    <tr style=\"text-align: right;\">\n",
       "      <th></th>\n",
       "      <th>Total Records</th>\n",
       "    </tr>\n",
       "    <tr>\n",
       "      <th>Year</th>\n",
       "      <th></th>\n",
       "    </tr>\n",
       "  </thead>\n",
       "  <tbody>\n",
       "    <tr>\n",
       "      <th>2005</th>\n",
       "      <td>52821610</td>\n",
       "    </tr>\n",
       "    <tr>\n",
       "      <th>2006</th>\n",
       "      <td>48607177</td>\n",
       "    </tr>\n",
       "    <tr>\n",
       "      <th>2007</th>\n",
       "      <td>130598248</td>\n",
       "    </tr>\n",
       "    <tr>\n",
       "      <th>2008</th>\n",
       "      <td>49740455</td>\n",
       "    </tr>\n",
       "    <tr>\n",
       "      <th>2009</th>\n",
       "      <td>218959724</td>\n",
       "    </tr>\n",
       "    <tr>\n",
       "      <th>2010</th>\n",
       "      <td>12861822</td>\n",
       "    </tr>\n",
       "    <tr>\n",
       "      <th>2011</th>\n",
       "      <td>66131642</td>\n",
       "    </tr>\n",
       "    <tr>\n",
       "      <th>2012</th>\n",
       "      <td>27776352</td>\n",
       "    </tr>\n",
       "    <tr>\n",
       "      <th>2013</th>\n",
       "      <td>57651691</td>\n",
       "    </tr>\n",
       "    <tr>\n",
       "      <th>2014</th>\n",
       "      <td>71138652</td>\n",
       "    </tr>\n",
       "    <tr>\n",
       "      <th>2015</th>\n",
       "      <td>160164976</td>\n",
       "    </tr>\n",
       "    <tr>\n",
       "      <th>2016</th>\n",
       "      <td>10111245</td>\n",
       "    </tr>\n",
       "    <tr>\n",
       "      <th>2017</th>\n",
       "      <td>0</td>\n",
       "    </tr>\n",
       "  </tbody>\n",
       "</table>\n",
       "</div>"
      ],
      "text/plain": [
       "      Total Records\n",
       "Year               \n",
       "2005       52821610\n",
       "2006       48607177\n",
       "2007      130598248\n",
       "2008       49740455\n",
       "2009      218959724\n",
       "2010       12861822\n",
       "2011       66131642\n",
       "2012       27776352\n",
       "2013       57651691\n",
       "2014       71138652\n",
       "2015      160164976\n",
       "2016       10111245\n",
       "2017              0"
      ]
     },
     "execution_count": 36,
     "metadata": {},
     "output_type": "execute_result"
    }
   ],
   "source": [
    "df3"
   ]
  },
  {
   "cell_type": "code",
   "execution_count": 37,
   "metadata": {
    "collapsed": false
   },
   "outputs": [
    {
     "data": {
      "text/plain": [
       "<matplotlib.text.Text at 0xa14c208>"
      ]
     },
     "execution_count": 37,
     "metadata": {},
     "output_type": "execute_result"
    },
    {
     "data": {
      "image/png": "[encoded data removed]",
      "text/plain": [
       "<matplotlib.figure.Figure at 0x9dede80>"
      ]
     },
     "metadata": {},
     "output_type": "display_data"
    }
   ],
   "source": [
    "df3[:12].plot(kind='bar', fontsize=10, figsize=[12,8])\n",
    "plt.title('Total Records Breached per Year', fontsize=20) \n",
    "plt.xlabel('Year', fontsize=17) \n",
    "plt.ylabel('Number of Records Breached (billions)', fontsize=17) "
   ]
  },
  {
   "cell_type": "code",
   "execution_count": 38,
   "metadata": {
    "collapsed": false
   },
   "outputs": [
    {
     "data": {
      "text/html": [
       "<div>\n",
       "<table border=\"1\" class=\"dataframe\">\n",
       "  <thead>\n",
       "    <tr style=\"text-align: right;\">\n",
       "      <th></th>\n",
       "      <th>Day</th>\n",
       "      <th>Month</th>\n",
       "      <th>Year</th>\n",
       "      <th>Company</th>\n",
       "      <th>City</th>\n",
       "      <th>State</th>\n",
       "      <th>Type of breach</th>\n",
       "      <th>Type of organization</th>\n",
       "      <th>Records Breached</th>\n",
       "      <th>Total Records</th>\n",
       "      <th>Description of incident</th>\n",
       "    </tr>\n",
       "  </thead>\n",
       "  <tbody>\n",
       "    <tr>\n",
       "      <th>0</th>\n",
       "      <td>21</td>\n",
       "      <td>October</td>\n",
       "      <td>2009</td>\n",
       "      <td>Bullitt County Public Schools</td>\n",
       "      <td>Shepherdsville</td>\n",
       "      <td>Kentucky</td>\n",
       "      <td>DISC</td>\n",
       "      <td>EDU</td>\n",
       "      <td>676</td>\n",
       "      <td>676</td>\n",
       "      <td>A Bullitt County Public Schools \\r\\n          ...</td>\n",
       "    </tr>\n",
       "    <tr>\n",
       "      <th>1</th>\n",
       "      <td>21</td>\n",
       "      <td>October</td>\n",
       "      <td>2009</td>\n",
       "      <td>Roane State Community College</td>\n",
       "      <td>Harriman</td>\n",
       "      <td>Tennessee</td>\n",
       "      <td>PORT</td>\n",
       "      <td>EDU</td>\n",
       "      <td>14783</td>\n",
       "      <td>14783</td>\n",
       "      <td>Roane State Community College \\r\\n            ...</td>\n",
       "    </tr>\n",
       "    <tr>\n",
       "      <th>2</th>\n",
       "      <td>15</td>\n",
       "      <td>October</td>\n",
       "      <td>2009</td>\n",
       "      <td>Halifax Health</td>\n",
       "      <td>Daytona Beach</td>\n",
       "      <td>Florida</td>\n",
       "      <td>PORT</td>\n",
       "      <td>MED</td>\n",
       "      <td>33000</td>\n",
       "      <td>33000</td>\n",
       "      <td>A laptop computer from a Halifax \\r\\n         ...</td>\n",
       "    </tr>\n",
       "    <tr>\n",
       "      <th>3</th>\n",
       "      <td>4</td>\n",
       "      <td>October</td>\n",
       "      <td>2009</td>\n",
       "      <td>Suffolk Community College</td>\n",
       "      <td>Selden</td>\n",
       "      <td>New York</td>\n",
       "      <td>DISC</td>\n",
       "      <td>EDU</td>\n",
       "      <td>300</td>\n",
       "      <td>300</td>\n",
       "      <td>Suffolk Community College has \\r\\n            ...</td>\n",
       "    </tr>\n",
       "    <tr>\n",
       "      <th>4</th>\n",
       "      <td>28</td>\n",
       "      <td>September</td>\n",
       "      <td>2009</td>\n",
       "      <td>Penrose Hospital</td>\n",
       "      <td>Colorado Springs</td>\n",
       "      <td>Colorado</td>\n",
       "      <td>PHYS</td>\n",
       "      <td>MED</td>\n",
       "      <td>175</td>\n",
       "      <td>175</td>\n",
       "      <td>Officials at Penrose Hospital              bel...</td>\n",
       "    </tr>\n",
       "  </tbody>\n",
       "</table>\n",
       "</div>"
      ],
      "text/plain": [
       "   Day      Month  Year                         Company              City  \\\n",
       "0   21    October  2009   Bullitt County Public Schools    Shepherdsville   \n",
       "1   21    October  2009  Roane State Community College           Harriman   \n",
       "2   15    October  2009                  Halifax Health     Daytona Beach   \n",
       "3    4    October  2009       Suffolk Community College            Selden   \n",
       "4   28  September  2009                Penrose Hospital  Colorado Springs   \n",
       "\n",
       "        State Type of breach Type of organization Records Breached  \\\n",
       "0    Kentucky           DISC                  EDU              676   \n",
       "1   Tennessee           PORT                  EDU            14783   \n",
       "2     Florida           PORT                  MED            33000   \n",
       "3    New York           DISC                  EDU              300   \n",
       "4    Colorado           PHYS                  MED              175   \n",
       "\n",
       "   Total Records                            Description of incident  \n",
       "0            676  A Bullitt County Public Schools \\r\\n          ...  \n",
       "1          14783  Roane State Community College \\r\\n            ...  \n",
       "2          33000  A laptop computer from a Halifax \\r\\n         ...  \n",
       "3            300  Suffolk Community College has \\r\\n            ...  \n",
       "4            175  Officials at Penrose Hospital              bel...  "
      ]
     },
     "execution_count": 38,
     "metadata": {},
     "output_type": "execute_result"
    }
   ],
   "source": [
    "df.head()"
   ]
  },
  {
   "cell_type": "code",
   "execution_count": 39,
   "metadata": {
    "collapsed": true
   },
   "outputs": [],
   "source": [
    "df4 = df[['State', 'Total Records']]"
   ]
  },
  {
   "cell_type": "code",
   "execution_count": 40,
   "metadata": {
    "collapsed": false
   },
   "outputs": [],
   "source": [
    "df4 = df4.groupby(['State']).sum()"
   ]
  },
  {
   "cell_type": "code",
   "execution_count": 41,
   "metadata": {
    "collapsed": false
   },
   "outputs": [],
   "source": [
    "df4.to_csv(\"C:\\GIT\\Amlin\\states.csv\")"
   ]
  },
  {
   "cell_type": "code",
   "execution_count": 42,
   "metadata": {
    "collapsed": false
   },
   "outputs": [
    {
     "name": "stderr",
     "output_type": "stream",
     "text": [
      "C:\\Users\\student10\\Anaconda2\\lib\\site-packages\\ipykernel\\__main__.py:2: SettingWithCopyWarning: \n",
      "A value is trying to be set on a copy of a slice from a DataFrame.\n",
      "Try using .loc[row_indexer,col_indexer] = value instead\n",
      "\n",
      "See the caveats in the documentation: http://pandas.pydata.org/pandas-docs/stable/indexing.html#indexing-view-versus-copy\n",
      "  from ipykernel import kernelapp as app\n"
     ]
    }
   ],
   "source": [
    "df5 = df[['Year']]\n",
    "df5['Count'] = 1"
   ]
  },
  {
   "cell_type": "code",
   "execution_count": 43,
   "metadata": {
    "collapsed": false
   },
   "outputs": [],
   "source": [
    "df5 = df5.groupby(['Year']).sum()"
   ]
  },
  {
   "cell_type": "code",
   "execution_count": 44,
   "metadata": {
    "collapsed": false
   },
   "outputs": [
    {
     "data": {
      "text/plain": [
       "<matplotlib.text.Text at 0xaa8eeb8>"
      ]
     },
     "execution_count": 44,
     "metadata": {},
     "output_type": "execute_result"
    },
    {
     "data": {
      "image/png": "[encoded data removed]",
      "text/plain": [
       "<matplotlib.figure.Figure at 0x9943588>"
      ]
     },
     "metadata": {},
     "output_type": "display_data"
    }
   ],
   "source": [
    "df5[9:12].plot(kind='pie', figsize=[8, 8], subplots=True, shadow=True, explode=[0,0,0.05])\n",
    "plt.title('Number of Breaches per Year', fontsize=20) \n",
    "plt.xlabel('Year', fontsize=17) \n",
    "plt.ylabel('Number of Breaches', fontsize=17) "
   ]
  },
  {
   "cell_type": "code",
   "execution_count": 45,
   "metadata": {
    "collapsed": false
   },
   "outputs": [
    {
     "name": "stderr",
     "output_type": "stream",
     "text": [
      "C:\\Users\\student10\\Anaconda2\\lib\\site-packages\\ipykernel\\__main__.py:2: SettingWithCopyWarning: \n",
      "A value is trying to be set on a copy of a slice from a DataFrame.\n",
      "Try using .loc[row_indexer,col_indexer] = value instead\n",
      "\n",
      "See the caveats in the documentation: http://pandas.pydata.org/pandas-docs/stable/indexing.html#indexing-view-versus-copy\n",
      "  from ipykernel import kernelapp as app\n"
     ]
    },
    {
     "data": {
      "text/html": [
       "<div>\n",
       "<table border=\"1\" class=\"dataframe\">\n",
       "  <thead>\n",
       "    <tr style=\"text-align: right;\">\n",
       "      <th></th>\n",
       "      <th></th>\n",
       "      <th></th>\n",
       "    </tr>\n",
       "    <tr>\n",
       "      <th>Year</th>\n",
       "      <th>Type of breach</th>\n",
       "      <th></th>\n",
       "    </tr>\n",
       "  </thead>\n",
       "  <tbody>\n",
       "    <tr>\n",
       "      <th rowspan=\"7\" valign=\"top\">2005</th>\n",
       "      <th>DISC</th>\n",
       "      <td>20</td>\n",
       "    </tr>\n",
       "    <tr>\n",
       "      <th>HACK</th>\n",
       "      <td>48</td>\n",
       "    </tr>\n",
       "    <tr>\n",
       "      <th>INSD</th>\n",
       "      <td>10</td>\n",
       "    </tr>\n",
       "    <tr>\n",
       "      <th>PHYS</th>\n",
       "      <td>8</td>\n",
       "    </tr>\n",
       "    <tr>\n",
       "      <th>PORT</th>\n",
       "      <td>38</td>\n",
       "    </tr>\n",
       "    <tr>\n",
       "      <th>STAT</th>\n",
       "      <td>10</td>\n",
       "    </tr>\n",
       "    <tr>\n",
       "      <th>UNKN</th>\n",
       "      <td>2</td>\n",
       "    </tr>\n",
       "    <tr>\n",
       "      <th rowspan=\"8\" valign=\"top\">2006</th>\n",
       "      <th>CARD</th>\n",
       "      <td>3</td>\n",
       "    </tr>\n",
       "    <tr>\n",
       "      <th>DISC</th>\n",
       "      <td>83</td>\n",
       "    </tr>\n",
       "    <tr>\n",
       "      <th>HACK</th>\n",
       "      <td>75</td>\n",
       "    </tr>\n",
       "    <tr>\n",
       "      <th>INSD</th>\n",
       "      <td>32</td>\n",
       "    </tr>\n",
       "    <tr>\n",
       "      <th>PHYS</th>\n",
       "      <td>39</td>\n",
       "    </tr>\n",
       "    <tr>\n",
       "      <th>PORT</th>\n",
       "      <td>186</td>\n",
       "    </tr>\n",
       "    <tr>\n",
       "      <th>STAT</th>\n",
       "      <td>48</td>\n",
       "    </tr>\n",
       "    <tr>\n",
       "      <th>UNKN</th>\n",
       "      <td>16</td>\n",
       "    </tr>\n",
       "    <tr>\n",
       "      <th rowspan=\"5\" valign=\"top\">2007</th>\n",
       "      <th>CARD</th>\n",
       "      <td>2</td>\n",
       "    </tr>\n",
       "    <tr>\n",
       "      <th>DISC</th>\n",
       "      <td>98</td>\n",
       "    </tr>\n",
       "    <tr>\n",
       "      <th>HACK</th>\n",
       "      <td>71</td>\n",
       "    </tr>\n",
       "    <tr>\n",
       "      <th>INSD</th>\n",
       "      <td>23</td>\n",
       "    </tr>\n",
       "    <tr>\n",
       "      <th>PHYS</th>\n",
       "      <td>43</td>\n",
       "    </tr>\n",
       "  </tbody>\n",
       "</table>\n",
       "</div>"
      ],
      "text/plain": [
       "                        \n",
       "Year Type of breach     \n",
       "2005 DISC             20\n",
       "     HACK             48\n",
       "     INSD             10\n",
       "     PHYS              8\n",
       "     PORT             38\n",
       "     STAT             10\n",
       "     UNKN              2\n",
       "2006 CARD              3\n",
       "     DISC             83\n",
       "     HACK             75\n",
       "     INSD             32\n",
       "     PHYS             39\n",
       "     PORT            186\n",
       "     STAT             48\n",
       "     UNKN             16\n",
       "2007 CARD              2\n",
       "     DISC             98\n",
       "     HACK             71\n",
       "     INSD             23\n",
       "     PHYS             43"
      ]
     },
     "execution_count": 45,
     "metadata": {},
     "output_type": "execute_result"
    }
   ],
   "source": [
    "df6 = df[['Year', 'Type of breach']]\n",
    "df6[''] = 1\n",
    "df6 = df6.groupby(['Year', 'Type of breach']).sum()\n",
    "df6.head(20)"
   ]
  },
  {
   "cell_type": "code",
   "execution_count": null,
   "metadata": {
    "collapsed": false
   },
   "outputs": [],
   "source": []
  },
  {
   "cell_type": "code",
   "execution_count": 46,
   "metadata": {
    "collapsed": false
   },
   "outputs": [],
   "source": [
    "df6 = df6.unstack()\n",
    "#df6.set_index(['Year', 'Type of breach'])\n",
    "#pd.set_option('display.multi_sparse', True)"
   ]
  },
  {
   "cell_type": "code",
   "execution_count": 47,
   "metadata": {
    "collapsed": false,
    "scrolled": false
   },
   "outputs": [
    {
     "data": {
      "text/plain": [
       "<matplotlib.legend.Legend at 0xb563ac8>"
      ]
     },
     "execution_count": 47,
     "metadata": {},
     "output_type": "execute_result"
    },
    {
     "data": {
      "image/png": "[encoded data removed]",
      "text/plain": [
       "<matplotlib.figure.Figure at 0xb7d49e8>"
      ]
     },
     "metadata": {},
     "output_type": "display_data"
    }
   ],
   "source": [
    "df6[:12].plot(kind='bar', stacked=True, figsize=[12,12])\n",
    "plt.title('Type of Breach by Year', fontsize=20) \n",
    "plt.xlabel('Year', fontsize=17) \n",
    "plt.ylabel('Number of Breaches', fontsize=17) \n",
    "plt.legend(loc='upper left')"
   ]
  },
  {
   "cell_type": "code",
   "execution_count": 69,
   "metadata": {
    "collapsed": false
   },
   "outputs": [],
   "source": []
  },
  {
   "cell_type": "code",
   "execution_count": 70,
   "metadata": {
    "collapsed": false
   },
   "outputs": [
    {
     "data": {
      "text/html": [
       "<div>\n",
       "<table border=\"1\" class=\"dataframe\">\n",
       "  <thead>\n",
       "    <tr style=\"text-align: right;\">\n",
       "      <th></th>\n",
       "      <th>State</th>\n",
       "    </tr>\n",
       "    <tr>\n",
       "      <th>Type of organization</th>\n",
       "      <th></th>\n",
       "    </tr>\n",
       "  </thead>\n",
       "  <tbody>\n",
       "    <tr>\n",
       "      <th>BSF</th>\n",
       "      <td>Texas Wyoming Florida New York California Cal...</td>\n",
       "    </tr>\n",
       "    <tr>\n",
       "      <th>BSO</th>\n",
       "      <td>Illinois North Carolina California Oklahoma M...</td>\n",
       "    </tr>\n",
       "    <tr>\n",
       "      <th>BSR</th>\n",
       "      <td>Colorado California Colorado Indiana New Hamp...</td>\n",
       "    </tr>\n",
       "    <tr>\n",
       "      <th>EDU</th>\n",
       "      <td>Kentucky Tennessee New York Kentucky Florida ...</td>\n",
       "    </tr>\n",
       "    <tr>\n",
       "      <th>GOV</th>\n",
       "      <td>District Of Columbia Florida Michigan Maine I...</td>\n",
       "    </tr>\n",
       "    <tr>\n",
       "      <th>MED</th>\n",
       "      <td>Florida Colorado California Florida Hawaii Ut...</td>\n",
       "    </tr>\n",
       "    <tr>\n",
       "      <th>NGO</th>\n",
       "      <td>New Mexico Massachusetts Maryland North Carol...</td>\n",
       "    </tr>\n",
       "  </tbody>\n",
       "</table>\n",
       "</div>"
      ],
      "text/plain": [
       "                                                                  State\n",
       "Type of organization                                                   \n",
       "BSF                    Texas Wyoming Florida New York California Cal...\n",
       "BSO                    Illinois North Carolina California Oklahoma M...\n",
       "BSR                    Colorado California Colorado Indiana New Hamp...\n",
       "EDU                    Kentucky Tennessee New York Kentucky Florida ...\n",
       "GOV                    District Of Columbia Florida Michigan Maine I...\n",
       "MED                    Florida Colorado California Florida Hawaii Ut...\n",
       "NGO                    New Mexico Massachusetts Maryland North Carol..."
      ]
     },
     "execution_count": 70,
     "metadata": {},
     "output_type": "execute_result"
    }
   ],
   "source": []
  },
  {
   "cell_type": "code",
   "execution_count": null,
   "metadata": {
    "collapsed": true
   },
   "outputs": [],
   "source": []
  }
 ],
 "metadata": {
  "anaconda-cloud": {},
  "kernelspec": {
   "display_name": "Python [Root]",
   "language": "python",
   "name": "Python [Root]"
  },
  "language_info": {
   "codemirror_mode": {
    "name": "ipython",
    "version": 2
   },
   "file_extension": ".py",
   "mimetype": "text/x-python",
   "name": "python",
   "nbconvert_exporter": "python",
   "pygments_lexer": "ipython2",
   "version": "2.7.12"
  }
 },
 "nbformat": 4,
 "nbformat_minor": 0
}
