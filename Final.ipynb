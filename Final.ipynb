{
 "cells": [
  {
   "cell_type": "code",
   "execution_count": 219,
   "metadata": {
    "collapsed": false
   },
   "outputs": [],
   "source": [
    "# Import necessary libraries \n",
    "import numpy as np\n",
    "import pandas as pd\n",
    "import matplotlib.pyplot as plt\n",
    "from ipykernel import kernelapp as app\n",
    "from fuzzywuzzy import fuzz\n",
    "from fuzzywuzzy import process\n",
    "%matplotlib inline\n",
    "import jellyfish"
   ]
  },
  {
   "cell_type": "code",
   "execution_count": 220,
   "metadata": {
    "collapsed": true
   },
   "outputs": [],
   "source": [
    "df = pd.read_csv(\"C:\\GIT\\Amlin\\clean_data3.csv\", dtype={'Month': str})"
   ]
  },
  {
   "cell_type": "code",
   "execution_count": 221,
   "metadata": {
    "collapsed": false,
    "scrolled": true
   },
   "outputs": [],
   "source": [
    "dropped = [' British Columbia', ' Bronx', ' Brooklyn', ' London', ' Noord Holland', \" O'ahu\", ' Quebec', ' Puerto Rico', 'nan', '0']"
   ]
  },
  {
   "cell_type": "code",
   "execution_count": 222,
   "metadata": {
    "collapsed": false,
    "scrolled": true
   },
   "outputs": [
    {
     "data": {
      "text/plain": [
       "0                    Kentucky\n",
       "1                   Tennessee\n",
       "2                     Florida\n",
       "3                    New York\n",
       "4                    Colorado\n",
       "5                    Kentucky\n",
       "6                       Texas\n",
       "7                  California\n",
       "8                     Wyoming\n",
       "9                     Florida\n",
       "10                   Colorado\n",
       "11                   Kentucky\n",
       "12                    Florida\n",
       "13              Massachusetts\n",
       "14                   Kentucky\n",
       "15                   Michigan\n",
       "16       District Of Columbia\n",
       "17                     Hawaii\n",
       "18                       Utah\n",
       "19                      Texas\n",
       "20                       Utah\n",
       "21                   Illinois\n",
       "22                    Florida\n",
       "23                   Michigan\n",
       "24                   New York\n",
       "25                    Florida\n",
       "26                 California\n",
       "27                       Iowa\n",
       "28                   Virginia\n",
       "29                      Maine\n",
       "                ...          \n",
       "5250            New Hampshire\n",
       "5251                        0\n",
       "5252                 New York\n",
       "5253                    Texas\n",
       "5254               Washington\n",
       "5255                 Kentucky\n",
       "5256                    Idaho\n",
       "5257     District Of Columbia\n",
       "5258            Massachusetts\n",
       "5259                 New York\n",
       "5260            Massachusetts\n",
       "5261            Massachusetts\n",
       "5262            Massachusetts\n",
       "5263           North Carolina\n",
       "5264               California\n",
       "5265                        0\n",
       "5266               California\n",
       "5267                 New York\n",
       "5268                Tennessee\n",
       "5269                Minnesota\n",
       "5270               New Jersey\n",
       "5271                 New York\n",
       "5272                  Indiana\n",
       "5273               Washington\n",
       "5274                     Ohio\n",
       "5275                  Arizona\n",
       "5276                  Georgia\n",
       "5277             Pennsylvania\n",
       "5278               California\n",
       "5279               California\n",
       "Name: State, dtype: object"
      ]
     },
     "execution_count": 222,
     "metadata": {},
     "output_type": "execute_result"
    }
   ],
   "source": [
    "df['State'].fillna('0')"
   ]
  },
  {
   "cell_type": "code",
   "execution_count": 223,
   "metadata": {
    "collapsed": false
   },
   "outputs": [],
   "source": [
    "df = df[~df.State.isin(dropped)]"
   ]
  },
  {
   "cell_type": "code",
   "execution_count": 224,
   "metadata": {
    "collapsed": false
   },
   "outputs": [
    {
     "data": {
      "text/plain": [
       "52"
      ]
     },
     "execution_count": 224,
     "metadata": {},
     "output_type": "execute_result"
    }
   ],
   "source": [
    "len(df.State.unique())"
   ]
  },
  {
   "cell_type": "code",
   "execution_count": 227,
   "metadata": {
    "collapsed": false
   },
   "outputs": [],
   "source": [
    "#df.to_csv('C:\\GIT\\Amlin\\Final_data.csv', index=False)"
   ]
  },
  {
   "cell_type": "code",
   "execution_count": 141,
   "metadata": {
    "collapsed": false
   },
   "outputs": [
    {
     "name": "stdout",
     "output_type": "stream",
     "text": [
      "Month\n",
      "Company\n",
      "City\n",
      "State\n",
      "Type of breach\n",
      "Type of organization\n",
      "Records Breached\n",
      "Description of incident\n"
     ]
    }
   ],
   "source": [
    "from sklearn import preprocessing\n",
    "\n",
    "for f in df.columns:\n",
    "    if df[f].dtype == 'object':\n",
    "        print(f)\n",
    "        lbl = preprocessing.LabelEncoder()\n",
    "        lbl.fit(list(df[f].values))\n",
    "        df[f] = lbl.transform(list(df[f].values))"
   ]
  },
  {
   "cell_type": "code",
   "execution_count": 142,
   "metadata": {
    "collapsed": false
   },
   "outputs": [
    {
     "data": {
      "text/html": [
       "<div>\n",
       "<table border=\"1\" class=\"dataframe\">\n",
       "  <thead>\n",
       "    <tr style=\"text-align: right;\">\n",
       "      <th></th>\n",
       "      <th>Day</th>\n",
       "      <th>Month</th>\n",
       "      <th>Year</th>\n",
       "      <th>Company</th>\n",
       "      <th>City</th>\n",
       "      <th>State</th>\n",
       "      <th>Type of breach</th>\n",
       "      <th>Type of organization</th>\n",
       "      <th>Records Breached</th>\n",
       "      <th>Total Records</th>\n",
       "      <th>Description of incident</th>\n",
       "    </tr>\n",
       "  </thead>\n",
       "  <tbody>\n",
       "    <tr>\n",
       "      <th>0</th>\n",
       "      <td>21</td>\n",
       "      <td>10</td>\n",
       "      <td>2009</td>\n",
       "      <td>622</td>\n",
       "      <td>1230</td>\n",
       "      <td>17</td>\n",
       "      <td>1</td>\n",
       "      <td>3</td>\n",
       "      <td>1636</td>\n",
       "      <td>676</td>\n",
       "      <td>305</td>\n",
       "    </tr>\n",
       "    <tr>\n",
       "      <th>1</th>\n",
       "      <td>21</td>\n",
       "      <td>10</td>\n",
       "      <td>2009</td>\n",
       "      <td>3406</td>\n",
       "      <td>534</td>\n",
       "      <td>42</td>\n",
       "      <td>5</td>\n",
       "      <td>3</td>\n",
       "      <td>393</td>\n",
       "      <td>14783</td>\n",
       "      <td>3925</td>\n",
       "    </tr>\n",
       "    <tr>\n",
       "      <th>2</th>\n",
       "      <td>15</td>\n",
       "      <td>10</td>\n",
       "      <td>2009</td>\n",
       "      <td>1748</td>\n",
       "      <td>321</td>\n",
       "      <td>9</td>\n",
       "      <td>5</td>\n",
       "      <td>5</td>\n",
       "      <td>1044</td>\n",
       "      <td>33000</td>\n",
       "      <td>1207</td>\n",
       "    </tr>\n",
       "    <tr>\n",
       "      <th>3</th>\n",
       "      <td>4</td>\n",
       "      <td>10</td>\n",
       "      <td>2009</td>\n",
       "      <td>3832</td>\n",
       "      <td>1219</td>\n",
       "      <td>32</td>\n",
       "      <td>1</td>\n",
       "      <td>3</td>\n",
       "      <td>965</td>\n",
       "      <td>300</td>\n",
       "      <td>4185</td>\n",
       "    </tr>\n",
       "    <tr>\n",
       "      <th>4</th>\n",
       "      <td>28</td>\n",
       "      <td>11</td>\n",
       "      <td>2009</td>\n",
       "      <td>3151</td>\n",
       "      <td>261</td>\n",
       "      <td>5</td>\n",
       "      <td>4</td>\n",
       "      <td>5</td>\n",
       "      <td>521</td>\n",
       "      <td>175</td>\n",
       "      <td>3484</td>\n",
       "    </tr>\n",
       "  </tbody>\n",
       "</table>\n",
       "</div>"
      ],
      "text/plain": [
       "   Day  Month  Year  Company  City  State  Type of breach  \\\n",
       "0   21     10  2009      622  1230     17               1   \n",
       "1   21     10  2009     3406   534     42               5   \n",
       "2   15     10  2009     1748   321      9               5   \n",
       "3    4     10  2009     3832  1219     32               1   \n",
       "4   28     11  2009     3151   261      5               4   \n",
       "\n",
       "   Type of organization  Records Breached  Total Records  \\\n",
       "0                     3              1636            676   \n",
       "1                     3               393          14783   \n",
       "2                     5              1044          33000   \n",
       "3                     3               965            300   \n",
       "4                     5               521            175   \n",
       "\n",
       "   Description of incident  \n",
       "0                      305  \n",
       "1                     3925  \n",
       "2                     1207  \n",
       "3                     4185  \n",
       "4                     3484  "
      ]
     },
     "execution_count": 142,
     "metadata": {},
     "output_type": "execute_result"
    }
   ],
   "source": [
    "df.head()"
   ]
  },
  {
   "cell_type": "code",
   "execution_count": 214,
   "metadata": {
    "collapsed": false
   },
   "outputs": [
    {
     "name": "stderr",
     "output_type": "stream",
     "text": [
      "C:\\Users\\student10\\Anaconda2\\lib\\site-packages\\ipykernel\\__main__.py:2: SettingWithCopyWarning: \n",
      "A value is trying to be set on a copy of a slice from a DataFrame.\n",
      "Try using .loc[row_indexer,col_indexer] = value instead\n",
      "\n",
      "See the caveats in the documentation: http://pandas.pydata.org/pandas-docs/stable/indexing.html#indexing-view-versus-copy\n",
      "  from ipykernel import kernelapp as app\n"
     ]
    },
    {
     "data": {
      "text/html": [
       "<div>\n",
       "<table border=\"1\" class=\"dataframe\">\n",
       "  <thead>\n",
       "    <tr style=\"text-align: right;\">\n",
       "      <th></th>\n",
       "      <th>Count</th>\n",
       "    </tr>\n",
       "    <tr>\n",
       "      <th>Month</th>\n",
       "      <th></th>\n",
       "    </tr>\n",
       "  </thead>\n",
       "  <tbody>\n",
       "    <tr>\n",
       "      <th>0</th>\n",
       "      <td>446</td>\n",
       "    </tr>\n",
       "    <tr>\n",
       "      <th>1</th>\n",
       "      <td>438</td>\n",
       "    </tr>\n",
       "    <tr>\n",
       "      <th>2</th>\n",
       "      <td>457</td>\n",
       "    </tr>\n",
       "    <tr>\n",
       "      <th>3</th>\n",
       "      <td>419</td>\n",
       "    </tr>\n",
       "    <tr>\n",
       "      <th>4</th>\n",
       "      <td>460</td>\n",
       "    </tr>\n",
       "    <tr>\n",
       "      <th>5</th>\n",
       "      <td>451</td>\n",
       "    </tr>\n",
       "    <tr>\n",
       "      <th>6</th>\n",
       "      <td>419</td>\n",
       "    </tr>\n",
       "    <tr>\n",
       "      <th>7</th>\n",
       "      <td>481</td>\n",
       "    </tr>\n",
       "    <tr>\n",
       "      <th>8</th>\n",
       "      <td>460</td>\n",
       "    </tr>\n",
       "    <tr>\n",
       "      <th>9</th>\n",
       "      <td>399</td>\n",
       "    </tr>\n",
       "    <tr>\n",
       "      <th>10</th>\n",
       "      <td>443</td>\n",
       "    </tr>\n",
       "    <tr>\n",
       "      <th>11</th>\n",
       "      <td>391</td>\n",
       "    </tr>\n",
       "  </tbody>\n",
       "</table>\n",
       "</div>"
      ],
      "text/plain": [
       "       Count\n",
       "Month       \n",
       "0        446\n",
       "1        438\n",
       "2        457\n",
       "3        419\n",
       "4        460\n",
       "5        451\n",
       "6        419\n",
       "7        481\n",
       "8        460\n",
       "9        399\n",
       "10       443\n",
       "11       391"
      ]
     },
     "execution_count": 214,
     "metadata": {},
     "output_type": "execute_result"
    }
   ],
   "source": [
    "df1 = df[['Month']]\n",
    "df1['Count'] = 1\n",
    "df1 = df1.groupby(['Month']).sum()\n",
    "df1"
   ]
  },
  {
   "cell_type": "code",
   "execution_count": 217,
   "metadata": {
    "collapsed": false
   },
   "outputs": [
    {
     "data": {
      "text/plain": [
       "<matplotlib.axes._subplots.AxesSubplot at 0xcfb7c18>"
      ]
     },
     "execution_count": 217,
     "metadata": {},
     "output_type": "execute_result"
    },
    {
     "data": {
      "image/png": "[encoded data removed]",
      "text/plain": [
       "<matplotlib.figure.Figure at 0x14f597f0>"
      ]
     },
     "metadata": {},
     "output_type": "display_data"
    }
   ],
   "source": [
    "df1.sort_values('Count', ascending=False).plot(kind='bar')"
   ]
  },
  {
   "cell_type": "code",
   "execution_count": 185,
   "metadata": {
    "collapsed": false
   },
   "outputs": [],
   "source": []
  },
  {
   "cell_type": "code",
   "execution_count": null,
   "metadata": {
    "collapsed": false
   },
   "outputs": [],
   "source": []
  },
  {
   "cell_type": "code",
   "execution_count": null,
   "metadata": {
    "collapsed": false
   },
   "outputs": [],
   "source": []
  },
  {
   "cell_type": "code",
   "execution_count": null,
   "metadata": {
    "collapsed": true
   },
   "outputs": [],
   "source": []
  }
 ],
 "metadata": {
  "kernelspec": {
   "display_name": "Python [Root]",
   "language": "python",
   "name": "Python [Root]"
  },
  "language_info": {
   "codemirror_mode": {
    "name": "ipython",
    "version": 2
   },
   "file_extension": ".py",
   "mimetype": "text/x-python",
   "name": "python",
   "nbconvert_exporter": "python",
   "pygments_lexer": "ipython2",
   "version": "2.7.12"
  }
 },
 "nbformat": 4,
 "nbformat_minor": 0
}
