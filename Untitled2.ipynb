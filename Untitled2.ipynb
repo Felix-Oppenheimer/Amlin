{
 "cells": [
  {
   "cell_type": "code",
   "execution_count": 3,
   "metadata": {
    "collapsed": false
   },
   "outputs": [],
   "source": [
    "import pandas as pd\n",
    "import numpy as np\n",
    "from sklearn import preprocessing"
   ]
  },
  {
   "cell_type": "code",
   "execution_count": 5,
   "metadata": {
    "collapsed": true
   },
   "outputs": [],
   "source": [
    "states = [\n",
    "'Alaska',\n",
    "        'Alabama',\n",
    "        'Arkansas',\n",
    "        'American Samoa',\n",
    "        'Arizona',\n",
    "        'California',\n",
    "        'Colorado',\n",
    "        'Connecticut',\n",
    "        'District of Columbia',\n",
    "        'Delaware',\n",
    "        'Florida',\n",
    "        'Georgia',\n",
    "        'Guam',\n",
    "        'Hawaii',\n",
    "        'Iowa',\n",
    "        'Idaho',\n",
    "        'Illinois',\n",
    "        'Indiana',\n",
    "        'Kansas',\n",
    "        'Kentucky',\n",
    "        'Louisiana',\n",
    "        'Massachusetts',\n",
    "        'Maryland',\n",
    "        'Maine',\n",
    "        'Michigan',\n",
    "        'Minnesota',\n",
    "        'Missouri',\n",
    "        'Northern Mariana Islands',\n",
    "        'Mississippi',\n",
    "        'Montana',\n",
    "        'National',\n",
    "        'North Carolina',\n",
    "        'North Dakota',\n",
    "        'Nebraska',\n",
    "        'New Hampshire',\n",
    "        'New Jersey',\n",
    "        'New Mexico',\n",
    "        'Nevada',\n",
    "        'New York',\n",
    "        'Ohio',\n",
    "        'Oklahoma',\n",
    "        'Oregon',\n",
    "        'Pennsylvania',\n",
    "        'Puerto Rico',\n",
    "        'Rhode Island',\n",
    "        'South Carolina',\n",
    "        'South Dakota',\n",
    "        'Tennessee',\n",
    "        'Texas',\n",
    "        'Utah',\n",
    "        'Virginia',\n",
    "        'Virgin Islands',\n",
    "        'Vermont',\n",
    "        'Washington',\n",
    "        'Wisconsin',\n",
    "        'West Virginia',\n",
    "        'Wyoming'\n",
    "]"
   ]
  },
  {
   "cell_type": "code",
   "execution_count": 6,
   "metadata": {
    "collapsed": false
   },
   "outputs": [
    {
     "ename": "SyntaxError",
     "evalue": "invalid syntax (<ipython-input-6-c4b606ba12ce>, line 1)",
     "output_type": "error",
     "traceback": [
      "\u001b[1;36m  File \u001b[1;32m\"<ipython-input-6-c4b606ba12ce>\"\u001b[1;36m, line \u001b[1;32m1\u001b[0m\n\u001b[1;33m    df = df.drop(x for x not in states)\u001b[0m\n\u001b[1;37m                           ^\u001b[0m\n\u001b[1;31mSyntaxError\u001b[0m\u001b[1;31m:\u001b[0m invalid syntax\n"
     ]
    }
   ],
   "source": [
    "df = df.drop(x for x not in states)"
   ]
  },
  {
   "cell_type": "code",
   "execution_count": null,
   "metadata": {
    "collapsed": true
   },
   "outputs": [],
   "source": []
  }
 ],
 "metadata": {
  "kernelspec": {
   "display_name": "Python [Root]",
   "language": "python",
   "name": "Python [Root]"
  },
  "language_info": {
   "codemirror_mode": {
    "name": "ipython",
    "version": 2
   },
   "file_extension": ".py",
   "mimetype": "text/x-python",
   "name": "python",
   "nbconvert_exporter": "python",
   "pygments_lexer": "ipython2",
   "version": "2.7.12"
  }
 },
 "nbformat": 4,
 "nbformat_minor": 0
}
